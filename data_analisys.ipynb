{
 "cells": [
  {
   "cell_type": "markdown",
   "id": "576b55a5-25b3-458d-bad4-be561ddff872",
   "metadata": {},
   "source": [
    "# Analysis of data from the spreadsheet of dead journalists, highlighting Gaza and the years 2023 to 2025."
   ]
  },
  {
   "cell_type": "code",
   "execution_count": 22,
   "id": "cef3ec5d-32fd-42d3-93c3-d166e4299b48",
   "metadata": {},
   "outputs": [
    {
     "name": "stdout",
     "output_type": "stream",
     "text": [
      "                   Nome      Data da Morte  \\\n",
      "0    Abadullah Hananzai     April 30, 2018   \n",
      "1            Abay Hailu   February 9, 1998   \n",
      "2  Abd al-Karim al-Ezzo  December 21, 2012   \n",
      "3        Abdallah Alwan  December 18, 2023   \n",
      "4    Abdallah Bouhachek  February 10, 1996   \n",
      "\n",
      "                                  Local da Morte  \\\n",
      "0                                    Afghanistan   \n",
      "1                                       Ethiopia   \n",
      "2                                          Syria   \n",
      "3  Israel and the Occupied Palestinian Territory   \n",
      "4                                        Algeria   \n",
      "\n",
      "                                  Organizações        Tipo  \\\n",
      "0  Radio Azadi,Radio Free Europe/Radio Liberty  Journalist   \n",
      "1                                       Agiere  Journalist   \n",
      "2                                    Freelance  Journalist   \n",
      "3    Holy Quran Radio,Midan,Mugtama,Al-Jazeera  Journalist   \n",
      "4                        Révolution et Travail  Journalist   \n",
      "\n",
      "                  Causa Motivo Confirmado  \\\n",
      "0                Murder         Confirmed   \n",
      "1  Dangerous Assignment         Confirmed   \n",
      "2             Crossfire         Confirmed   \n",
      "3  Dangerous Assignment         Confirmed   \n",
      "4                Murder         Confirmed   \n",
      "\n",
      "                                                Link  \n",
      "0    https://cpj.org/data/people/abadullah-hananzai/  \n",
      "1            https://cpj.org/data/people/abay-hailu/  \n",
      "2  https://cpj.org/data/people/abd-al-karim-al-ezzo/  \n",
      "3        https://cpj.org/data/people/abdallah-alwan/  \n",
      "4    https://cpj.org/data/people/abdallah-bouhachek/  \n"
     ]
    }
   ],
   "source": [
    "import pandas as pd\n",
    "\n",
    "df = pd.read_excel('jornalists_murdered.xlsx')\n",
    "\n",
    "print(df.head())"
   ]
  },
  {
   "cell_type": "code",
   "execution_count": 23,
   "id": "e8f8109a-43d5-48cb-b4c8-7e379b7938f2",
   "metadata": {},
   "outputs": [
    {
     "data": {
      "text/plain": [
       "Ano\n",
       "2024    103\n",
       "2023     82\n",
       "2009     76\n",
       "2012     74\n",
       "2013     74\n",
       "Name: count, dtype: int64"
      ]
     },
     "execution_count": 23,
     "metadata": {},
     "output_type": "execute_result"
    }
   ],
   "source": [
    "df['Data da Morte'] = pd.to_datetime(df['Data da Morte'])\n",
    "\n",
    "df['Ano'] = df['Data da Morte'].dt.year\n",
    "murders_per_year = df['Ano'].value_counts()\n",
    "murders_per_year.head(5)"
   ]
  },
  {
   "cell_type": "code",
   "execution_count": 13,
   "id": "cf356adf-7364-4c9a-a475-30193f1b39ad",
   "metadata": {},
   "outputs": [
    {
     "data": {
      "text/plain": [
       "Local da Morte\n",
       "Iraq                                             193\n",
       "Israel and the Occupied Palestinian Territory    183\n",
       "Syria                                            145\n",
       "Philippines                                       96\n",
       "Somalia                                           73\n",
       "                                                ... \n",
       "Papua New Guinea                                   1\n",
       "Lesotho                                            1\n",
       "Japan                                              1\n",
       "Ireland                                            1\n",
       "Lithuania                                          1\n",
       "Name: count, Length: 106, dtype: int64"
      ]
     },
     "execution_count": 13,
     "metadata": {},
     "output_type": "execute_result"
    }
   ],
   "source": [
    "places_most_deaths = df['Local da Morte'].value_counts()\n",
    "places_most_deaths"
   ]
  },
  {
   "cell_type": "code",
   "execution_count": 24,
   "id": "729e9b20-77a3-41fa-9e6e-c3ebdbceca65",
   "metadata": {},
   "outputs": [
    {
     "data": {
      "text/html": [
       "<div>\n",
       "<style scoped>\n",
       "    .dataframe tbody tr th:only-of-type {\n",
       "        vertical-align: middle;\n",
       "    }\n",
       "\n",
       "    .dataframe tbody tr th {\n",
       "        vertical-align: top;\n",
       "    }\n",
       "\n",
       "    .dataframe thead th {\n",
       "        text-align: right;\n",
       "    }\n",
       "</style>\n",
       "<table border=\"1\" class=\"dataframe\">\n",
       "  <thead>\n",
       "    <tr style=\"text-align: right;\">\n",
       "      <th></th>\n",
       "      <th>country</th>\n",
       "      <th>deaths</th>\n",
       "    </tr>\n",
       "  </thead>\n",
       "  <tbody>\n",
       "    <tr>\n",
       "      <th>0</th>\n",
       "      <td>Israel and the Occupied Palestinian Territory</td>\n",
       "      <td>164</td>\n",
       "    </tr>\n",
       "    <tr>\n",
       "      <th>1</th>\n",
       "      <td>Sudan</td>\n",
       "      <td>9</td>\n",
       "    </tr>\n",
       "    <tr>\n",
       "      <th>2</th>\n",
       "      <td>Syria</td>\n",
       "      <td>5</td>\n",
       "    </tr>\n",
       "    <tr>\n",
       "      <th>3</th>\n",
       "      <td>Lebanon</td>\n",
       "      <td>5</td>\n",
       "    </tr>\n",
       "    <tr>\n",
       "      <th>4</th>\n",
       "      <td>India</td>\n",
       "      <td>3</td>\n",
       "    </tr>\n",
       "  </tbody>\n",
       "</table>\n",
       "</div>"
      ],
      "text/plain": [
       "                                         country  deaths\n",
       "0  Israel and the Occupied Palestinian Territory     164\n",
       "1                                          Sudan       9\n",
       "2                                          Syria       5\n",
       "3                                        Lebanon       5\n",
       "4                                          India       3"
      ]
     },
     "execution_count": 24,
     "metadata": {},
     "output_type": "execute_result"
    }
   ],
   "source": [
    "mask = (df['Data da Morte'].dt.year >= 2023) & (df['Data da Morte'].dt.year <= 2025)\n",
    "df_filter = df.loc[mask]\n",
    "\n",
    "places_most_deaths = df_filter['Local da Morte'].value_counts().reset_index()\n",
    "\n",
    "places_most_deaths.columns = ['country', 'deaths']\n",
    "\n",
    "#Salve in CSV\n",
    "places_most_deaths.to_csv('places_most_death_2023_2025.csv', index=False)\n",
    "\n",
    "places_most_deaths.head()"
   ]
  },
  {
   "cell_type": "markdown",
   "id": "1f5bd1b7-723d-4ae0-b533-b24ada114037",
   "metadata": {},
   "source": [
    "# Filter data only for 2023 and the territory Israel and the Occupied Palestinian Territory (defined by CPJ)"
   ]
  },
  {
   "cell_type": "code",
   "execution_count": 26,
   "id": "aaf6fac0-d3a1-4409-96d3-dde9aa943d9a",
   "metadata": {},
   "outputs": [],
   "source": [
    "mask_gaza = df['Local da Morte'].str.contains('Gaza|Israel and the Occupied Palestinian Territory', case=False, na=False)\n",
    "\n",
    "df['Data da Morte'] = pd.to_datetime(df['Data da Morte'], errors='coerce')\n",
    "\n",
    "start_date = pd.to_datetime('2023-10-07')\n",
    "end_date = pd.to_datetime('2025-12-31')\n",
    "mask_date = (df['Data da Morte'] >= start_date) & (df['Data da Morte'] <= end_date)\n",
    "\n",
    "df_gaza = df.loc[mask_gaza & mask_date, ['Nome', 'Data da Morte']]\n",
    "\n",
    "df_gaza['Data da Morte'] = df_gaza['Data da Morte'].dt.year\n",
    "\n",
    "df_gaza_sorted = df_gaza.sort_values('Data da Morte', ascending=True).reset_index(drop=True)\n",
    "\n",
    "df_gaza_sorted.to_excel('journalists_killed_gaza_2023_2025.xlsx', index=False)"
   ]
  },
  {
   "cell_type": "code",
   "execution_count": 27,
   "id": "ee7785ab-04cf-49af-b0b4-0a9214f585e9",
   "metadata": {},
   "outputs": [
    {
     "data": {
      "text/plain": [
       "Data da Morte\n",
       "2024    76\n",
       "2023    65\n",
       "2025    23\n",
       "Name: count, dtype: int64"
      ]
     },
     "execution_count": 27,
     "metadata": {},
     "output_type": "execute_result"
    }
   ],
   "source": [
    "df = pd.read_excel('journalists_killed_gaza_2023_2025.xlsx')\n",
    "\n",
    "years_count_gaza = df['Data da Morte'].value_counts()\n",
    "years_count_gaza"
   ]
  }
 ],
 "metadata": {
  "kernelspec": {
   "display_name": "Python 3 (ipykernel)",
   "language": "python",
   "name": "python3"
  },
  "language_info": {
   "codemirror_mode": {
    "name": "ipython",
    "version": 3
   },
   "file_extension": ".py",
   "mimetype": "text/x-python",
   "name": "python",
   "nbconvert_exporter": "python",
   "pygments_lexer": "ipython3",
   "version": "3.12.0"
  }
 },
 "nbformat": 4,
 "nbformat_minor": 5
}
